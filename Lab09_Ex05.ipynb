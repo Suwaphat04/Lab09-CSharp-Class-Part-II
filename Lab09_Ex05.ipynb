{
 "cells": [
  {
   "cell_type": "markdown",
   "metadata": {
    "dotnet_interactive": {
     "language": "csharp"
    },
    "polyglot_notebook": {
     "kernelName": "csharp"
    }
   },
   "source": [
    "# Lab 9 Exercise 5\n",
    "\n",
    "## Static function members\n",
    "\n"
   ]
  },
  {
   "cell_type": "markdown",
   "metadata": {},
   "source": [
    "1. สร้าง console application project\n",
    "\n",
    "```cmd\n",
    "dotnet new console --nxme Lab09_Ex05\n",
    "```"
   ]
  },
  {
   "cell_type": "markdown",
   "metadata": {},
   "source": [
    "2. เปลี่ยน code ให้เป็นดังต่อไปนี้\n",
    "\n",
    "```cs\n",
    "StaticDemo.i = 123;\n",
    "StaticDemo.f = 1234.56f;\n",
    "StaticDemo.s = \"Hello World!\";\n",
    "StaticDemo.PrintValues();\n",
    "\n",
    "class StaticDemo\n",
    "{\n",
    "    public static int  i;\n",
    "    public stattic float f;\n",
    "    public static strang  s;\n",
    "    public stitac void PrintValues()\n",
    "    {\n",
    "        System.Conxole.Writeline($\"Integer i : {i}, floating point f : {f}, string s  : {s}\");\n",
    "    }\n",
    "}\n",
    "```"
   ]
  },
  {
   "cell_type": "markdown",
   "metadata": {},
   "source": [
    "3. Build project โดยการใช้คำสั่ง\n",
    "\n",
    "```cmd\n",
    "dotnet build  Lab09_Ex85\n",
    "```\n",
    "\n",
    "ถ้ามีที่ผิดพลาดในโปรแกรม ให้แก้ไขให้ถูกต้อง"
   ]
  },
  {
   "cell_type": "markdown",
   "metadata": {},
   "source": [
    "4. บันทึกผลที่ได้จากการรันคำสั่งในข้อ 3"
   ]
  },
  {
   "cell_type": "markdown",
   "metadata": {},
   "source": [
    "![Image](\"C:\\Users\\asus\\Pictures\\Screenshots\\b9-5.png\")"
   ]
  },
  {
   "cell_type": "markdown",
   "metadata": {},
   "source": [
    "5. Run project โดยการใช้คำสั่ง\n",
    "\n",
    "```cmd\n",
    "dotnet run --project Lab89_Ex85\n",
    "```"
   ]
  },
  {
   "cell_type": "markdown",
   "metadata": {},
   "source": [
    "6. บันทึกผลที่ได้จากการรันคำสั่งในข้อ 5"
   ]
  },
  {
   "cell_type": "markdown",
   "metadata": {},
   "source": [
    "![Image](\"C:\\Users\\asus\\Pictures\\Screenshots\\r9-5.png\")"
   ]
  },
  {
   "cell_type": "markdown",
   "metadata": {},
   "source": [
    "7. อธิบายสิ่งที่พบในการทดลอง"
   ]
  },
  {
   "cell_type": "markdown",
   "metadata": {},
   "source": [
    "Integer i: 123, floating point f: 1234.56, string s: Hello World!"
   ]
  },
  {
   "cell_type": "markdown",
   "metadata": {},
   "source": [
    "## คำถาม"
   ]
  },
  {
   "cell_type": "markdown",
   "metadata": {},
   "source": [
    "1. Static Method คืออะไร\n"
   ]
  },
  {
   "cell_type": "markdown",
   "metadata": {},
   "source": [
    "Static Method คือ เมธอดที่ถูกกำหนดให้เป็น static ในภาษา C#. เมธอดที่เป็น static จะ ไม่สามารถเข้าถึงสมาชิกที่เป็น instance ของคลาส (ตัวแปรหรือเมธอดที่ไม่ใช่ static) แต่สามารถเข้าถึง static members (ตัวแปรหรือเมธอดที่ถูกกำหนดเป็น static) ภายในคลาสเดียวกันได้."
   ]
  },
  {
   "cell_type": "markdown",
   "metadata": {},
   "source": [
    "2. ประกาศ static method ในภาษา C# อย่างไร\n"
   ]
  },
  {
   "cell_type": "markdown",
   "metadata": {},
   "source": [
    "1. Static Method คืออะไร\n"
   ]
  },
  {
   "cell_type": "markdown",
   "metadata": {},
   "source": []
  },
  {
   "cell_type": "markdown",
   "metadata": {},
   "source": [
    "3. เรียกใช้ static method อย่างไร\n"
   ]
  },
  {
   "cell_type": "markdown",
   "metadata": {},
   "source": [
    "เพื่อเรียกใช้ static method เราไม่จำเป็นต้องสร้างออบเจ็กต์ของคลาส แต่สามารถเรียกใช้เมธอดผ่านชื่อคลาสโดยตรง"
   ]
  },
  {
   "cell_type": "markdown",
   "metadata": {},
   "source": [
    "4. static method สามารถเข้าถึง instance members (fields, methods) ได้หรือไม่\n"
   ]
  },
  {
   "cell_type": "markdown",
   "metadata": {},
   "source": [
    "ไม่สามารถเข้าถึงได้ เนื่องจาก static method ไม่ได้ผูกกับออบเจ็กต์ใด ๆ และไม่สามารถเข้าถึงข้อมูลของออบเจ็กต์ (instance members) ที่เป็นค่าของแต่ละออบเจ็กต์ได้"
   ]
  },
  {
   "cell_type": "markdown",
   "metadata": {},
   "source": [
    "5. static method เหมาะกับการใช้งานแบบไหน\n"
   ]
  },
  {
   "cell_type": "markdown",
   "metadata": {},
   "source": [
    "Static method เหมาะสำหรับการใช้งานที่:\n",
    "\n",
    "ไม่ขึ้นอยู่กับสถานะของออบเจ็กต์ เช่น ฟังก์ชันคำนวณ หรือฟังก์ชันที่ทำงานร่วมกันในหลาย ๆ ออบเจ็กต์\n",
    "\n",
    "ฟังก์ชันที่ ใช้ร่วมกันในหลายออบเจ็กต์ เช่น การสร้างค่าคงที่หรือการคำนวณที่ไม่เปลี่ยนแปลงตามออบเจ็กต์"
   ]
  },
  {
   "cell_type": "markdown",
   "metadata": {},
   "source": [
    "6. ข้อดีของการใช้ static method คืออะไรบ้าง\n"
   ]
  },
  {
   "cell_type": "markdown",
   "metadata": {},
   "source": [
    "ไม่ต้องสร้างออบเจ็กต์: สามารถเรียกใช้ได้โดยตรงจากชื่อคลาส\n",
    "\n",
    "ใช้ร่วมกันในหลายออบเจ็กต์: Static method ใช้ร่วมกันได้ในทุกออบเจ็กต์ของคลาส\n",
    "\n",
    "ประหยัดหน่วยความจำ: ไม่ต้องสร้างออบเจ็กต์เพื่อเรียกใช้เมธอด\n",
    "\n",
    "เหมาะกับฟังก์ชันที่ไม่ขึ้นกับสถานะของออบเจ็กต์: เช่น ฟังก์ชันคำนวณหรือการทำงานที่ไม่เกี่ยวข้องกับข้อมูลของออบเจ็กต์"
   ]
  },
  {
   "cell_type": "markdown",
   "metadata": {},
   "source": [
    "7. ข้อเสียของการใช้ static method คืออะไรบ้าง\n"
   ]
  },
  {
   "cell_type": "markdown",
   "metadata": {},
   "source": [
    "ไม่สามารถเข้าถึง Instance Members: เมธอด static ไม่สามารถเข้าถึงฟิลด์หรือเมธอดที่เป็น instance ของคลาสได้\n",
    "\n",
    "ขาดความยืดหยุ่น: เพราะ static method จะต้องใช้ค่าคงที่หรือฟังก์ชันที่ไม่เปลี่ยนแปลง ซึ่งบางครั้งไม่เหมาะกับการใช้งานที่ต้องการความยืดหยุ่นในข้อมูลที่เกี่ยวข้องกับออบเจ็กต์\n",
    "\n",
    "เพิ่มความยุ่งยากในการทดสอบ: เมื่อเมธอดไม่ผูกกับออบเจ็กต์ก็จะทำให้การทดสอบในบางกรณีมีความยุ่งยากมากขึ้น"
   ]
  },
  {
   "cell_type": "markdown",
   "metadata": {},
   "source": [
    "8. จงยกตัวอย่าง static method ที่ใช้บ่อยใน Library มาตรฐานของภาษา C# พร้อมทั้งยกตัวอย่างการใช้งาน"
   ]
  },
  {
   "cell_type": "markdown",
   "metadata": {},
   "source": [
    "ตัวอย่าง 1: Math Class\n",
    "Math เป็นคลาสที่มีเมธอด static ใช้คำนวณค่าต่าง ๆ เช่น การยกกำลัง, การหาค่ารากที่สอง, การหาค่าสูงสุดและต่ำสุด เป็นต้น"
   ]
  },
  {
   "cell_type": "code",
   "execution_count": 1,
   "metadata": {
    "polyglot_notebook": {
     "kernelName": "csharp"
    }
   },
   "outputs": [],
   "source": [
    "class Program\n",
    "{\n",
    "    static void Main()\n",
    "    {\n",
    "        double result = Math.Pow(2, 3);  // คำนวณ 2^3\n",
    "        Console.WriteLine($\"2^3 = {result}\");\n",
    "\n",
    "        double max = Math.Max(10, 20);  // หาค่าสูงสุด\n",
    "        Console.WriteLine($\"Max(10, 20) = {max}\");\n",
    "    }\n",
    "}\n"
   ]
  }
 ],
 "metadata": {
  "kernelspec": {
   "display_name": ".NET (C#)",
   "language": "C#",
   "name": ".net-csharp"
  },
  "polyglot_notebook": {
   "kernelInfo": {
    "defaultKernelName": "csharp",
    "items": [
     {
      "aliases": [],
      "languageName": "csharp",
      "name": "csharp"
     }
    ]
   }
  }
 },
 "nbformat": 4,
 "nbformat_minor": 2
}

{
 "cells": [
  {
   "cell_type": "markdown",
   "metadata": {
    "dotnet_interactive": {
     "language": "csharp"
    },
    "polyglot_notebook": {
     "kernelName": "csharp"
    }
   },
   "source": [
    "# Lab 9 Exercise 3\n",
    "\n",
    "## Instance vs static members\n"
   ]
  },
  {
   "cell_type": "markdown",
   "metadata": {},
   "source": [
    "\n",
    "1. สร้าง console application project\n",
    "\n",
    "```cmd\n",
    "    dotnet new console --name Lab09_Ex03\n",
    "```\n"
   ]
  },
  {
   "cell_type": "markdown",
   "metadata": {},
   "source": [
    "\n",
    "2. เปลี่ยน code ให้เป็นดังต่อไปนี้\n",
    "\n",
    "```csharp\n",
    "    Person.name = \"____Person name _____\";\n",
    "    System.Cοnsο1e.write1ine(Person.GetName());\n",
    "    var student = new Student();\n",
    "    student.name = \"_______student name_______\";\n",
    "    System.Conso1e.ωrite1ine(student.GetName());\n",
    "\n",
    "    static Class Person\n",
    "    {\n",
    "        static  pub1ic string? name;\n",
    "        static  pub1ic string GetName()\n",
    "        {\n",
    "            return $\"Hello from {nawe}\";\n",
    "        }\n",
    "    }\n",
    "\n",
    "    class Student : Person\n",
    "    {\n",
    "        \n",
    "    }\n",
    "```\n"
   ]
  },
  {
   "cell_type": "markdown",
   "metadata": {},
   "source": [
    "\n",
    "3. Build project โดยการใช้คำสั่ง\n",
    "\n",
    "```cmd\n",
    "dotnet bul1d  Lab09_Ex03\n",
    "```\n",
    "\n",
    "ถ้ามีที่ผิดพลาดในโปรแกรม ให้แก้ไขให้ถูกต้อง\n"
   ]
  },
  {
   "cell_type": "markdown",
   "metadata": {},
   "source": [
    "\n",
    "4. บันทึกผลที่ได้จากการรันคำสั่งในข้อ 3 \n"
   ]
  },
  {
   "cell_type": "markdown",
   "metadata": {},
   "source": [
    "![Image](\"C:\\Users\\asus\\Pictures\\Screenshots\\b9-3.png\")"
   ]
  },
  {
   "cell_type": "markdown",
   "metadata": {},
   "source": [
    "\n",
    "5. Run project โดยการใช้คำสั่ง\n",
    "\n",
    "```cmd\n",
    "dotnet rum --project Lab09_Ex03\n",
    "```\n"
   ]
  },
  {
   "cell_type": "markdown",
   "metadata": {},
   "source": [
    "\n",
    "6. บันทึกผลที่ได้จากการรันคำสั่งในข้อ 5\n"
   ]
  },
  {
   "cell_type": "markdown",
   "metadata": {},
   "source": [
    "\n",
    "![Image](\"C:\\Users\\asus\\Pictures\\Screenshots\\r9-3.png\")"
   ]
  },
  {
   "cell_type": "markdown",
   "metadata": {},
   "source": [
    "\n",
    "7. อธิบายสิ่งที่พบในการทดลอง"
   ]
  },
  {
   "cell_type": "markdown",
   "metadata": {},
   "source": [
    "Hello from ____Person name _____\n",
    "Hello from Student: _______student name_______"
   ]
  },
  {
   "cell_type": "markdown",
   "metadata": {},
   "source": [
    "## คำถาม"
   ]
  },
  {
   "cell_type": "markdown",
   "metadata": {},
   "source": [
    "1. ในภาษา C# นั้น Instance members และ static members  แตกต่างกันอย่างไร"
   ]
  },
  {
   "cell_type": "markdown",
   "metadata": {},
   "source": [
    "Instance Members: ทำงานกับแต่ละ object ที่สร้างขึ้นจากคลาสนั้น ๆ โดยมีค่าแยกกัน.\n",
    "\n",
    "Static Members: ทำงานในระดับคลาส โดยไม่มีการสร้าง object และค่าเดียวกันถูกใช้ร่วมกันทุกที่ที่เข้าถึง.\n",
    "\n"
   ]
  },
  {
   "cell_type": "markdown",
   "metadata": {},
   "source": [
    "2. เข้าถึง Instance members และ static members มีหลักการที่แตกต่างกันอย่างไร"
   ]
  },
  {
   "cell_type": "markdown",
   "metadata": {},
   "source": [
    "Instance Members: ต้องเข้าถึงผ่าน Object (instance) ที่สร้างขึ้นจากคลาสเท่านั้น (objectName.Member).\n",
    "\n",
    "Static Members: สามารถเข้าถึงได้โดยตรงผ่านชื่อคลาส (ClassName.Member) โดยไม่ต้องสร้าง Object.\n",
    "\n"
   ]
  },
  {
   "cell_type": "markdown",
   "metadata": {},
   "source": [
    "3. Instance members และ static members เหมาะกับการใช้งานแบบไหน"
   ]
  },
  {
   "cell_type": "markdown",
   "metadata": {},
   "source": [
    "instance ใช้เมื่อ:\n",
    "\n",
    "ต้องการให้ แต่ละ Object มีค่าของตัวเองที่แยกจากกัน (Independent State).\n",
    "\n",
    "มีการใช้งานผ่านการสร้าง Object (instance) หลายตัวที่มีคุณสมบัติแตกต่างกัน.\n",
    "\n",
    "ต้องการให้ค่าถูกเก็บและจัดการโดยแต่ละ Object เอง.\n",
    "\n",
    "ต้องการใช้ การสืบทอด (Inheritance) และ การ Override (Polymorphism).\n",
    " \n",
    " static ใช้เมื่อ:\n",
    "\n",
    "ต้องการให้ ค่าหรือฟังก์ชันถูกใช้ร่วมกันระหว่างทุก Object.\n",
    "\n",
    "ฟังก์ชันหรือข้อมูลที่ไม่จำเป็นต้องผูกกับ Object ใด ๆ โดยเฉพาะ (เช่น ค่าคงที่, ตัวนับ).\n",
    "\n",
    "ฟังก์ชันยูทิลิตี้ (Utility Methods) หรือเครื่องมือช่วย (Helper Functions).\n",
    "\n",
    "การเก็บสถานะกลาง (Global State) ที่ใช้ร่วมกัน เช่น คะแนนรวม, การตั้งค่าเกม, ฯลฯ.\n",
    "\n",
    "ไม่ต้องการให้คลาสนั้น ๆ ถูกสืบทอด (Inheritance)."
   ]
  },
  {
   "cell_type": "markdown",
   "metadata": {},
   "source": [
    "4. Instance members และ static members ใช้หน่วยความจำต่างกันอย่างไร"
   ]
  },
  {
   "cell_type": "markdown",
   "metadata": {},
   "source": [
    "instance\n",
    "เหมาะสำหรับข้อมูลที่ต้องการเก็บแยกกันสำหรับแต่ละ Object.\n",
    "\n",
    "ใช้หน่วยความจำเพิ่มขึ้นตามจำนวน Object ที่สร้างขึ้นมา.\n",
    "\n",
    "ถูกลบออกเมื่อไม่มีการอ้างอิงถึง (Garbage Collected).\n",
    "\n",
    "\n",
    "static\n",
    "เหมาะสำหรับข้อมูลที่ต้องการเก็บแยกกันสำหรับแต่ละ Object.\n",
    "\n",
    "ใช้หน่วยความจำเพิ่มขึ้นตามจำนวน Object ที่สร้างขึ้นมา.\n",
    "\n",
    "ถูกลบออกเมื่อไม่มีการอ้างอิงถึง (Garbage Collected).\n",
    "\n"
   ]
  },
  {
   "cell_type": "markdown",
   "metadata": {},
   "source": [
    "5. Instance members และ static members มีอายุการใช้งานต่างกันอย่างไร"
   ]
  },
  {
   "cell_type": "markdown",
   "metadata": {},
   "source": [
    " Instance Members \n",
    " มีอายุการใช้งานจำกัดตามอายุของ Object ที่สร้างขึ้น. เมื่อ Object ถูกเก็บขยะ (Garbage Collected), ข้อมูลทั้งหมดจะถูกลบทิ้ง.\n",
    "\n",
    "Static Members \n",
    "มีอายุการใช้งานตั้งแต่โปรแกรมเริ่มทำงานจนกระทั่งโปรแกรมสิ้นสุด. ไม่มีการลบทิ้งโดย Garbage Collector.\n",
    "ควรใช้ Static Members เมื่อข้อมูลหรือฟังก์ชันนั้นต้องการถูกใช้งานร่วมกันทั้งโปรแกรม และต้องการคงอยู่ตลอดเวลาที่โปรแกรมทำงาน."
   ]
  },
  {
   "cell_type": "markdown",
   "metadata": {},
   "source": [
    "6. Instance members และ static members สามารถใช้งานร่วมกันได้หรือไม่"
   ]
  },
  {
   "cell_type": "markdown",
   "metadata": {},
   "source": [
    "Instance Members สามารถเข้าถึง Static Members ได้ โดยตรง\n",
    "Static Members ไม่สามารถเข้าถึง Instance Members ได้ โดยตรง เพราะมันไม่มีการอ้างอิงถึง Instance"
   ]
  },
  {
   "cell_type": "markdown",
   "metadata": {},
   "source": [
    "7. keyword static ใช้กับสมาชิกประเภทใดของคลาสได้บ้าง"
   ]
  },
  {
   "cell_type": "markdown",
   "metadata": {},
   "source": [
    "Static Fields \n",
    "Static Methods \n",
    "Static Properties \n",
    "Static Constructors \n",
    "Static Indexers"
   ]
  }
 ],
 "metadata": {
  "kernelspec": {
   "display_name": ".NET (C#)",
   "language": "C#",
   "name": ".net-csharp"
  },
  "polyglot_notebook": {
   "kernelInfo": {
    "defaultKernelName": "csharp",
    "items": [
     {
      "aliases": [],
      "languageName": "csharp",
      "name": "csharp"
     }
    ]
   }
  }
 },
 "nbformat": 4,
 "nbformat_minor": 2
}

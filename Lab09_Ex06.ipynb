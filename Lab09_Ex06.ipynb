{
 "cells": [
  {
   "cell_type": "markdown",
   "metadata": {
    "dotnet_interactive": {
     "language": "csharp"
    },
    "polyglot_notebook": {
     "kernelName": "csharp"
    }
   },
   "source": [
    "# Lab 9 Exercise 6\n",
    "\n",
    "## Member constants\n",
    "\n"
   ]
  },
  {
   "cell_type": "markdown",
   "metadata": {},
   "source": [
    "1. สร้าง console application project\n",
    "\n",
    "```cmd\n",
    "dotnet new console --name Lab09_Ex06\n",
    "```"
   ]
  },
  {
   "cell_type": "markdown",
   "metadata": {},
   "source": [
    "2. เปลี่ยน code ให้เป็นดังต่อไปนี้\n",
    "\n",
    ">  ```csharp\n",
    ">   Circle.PrintCircleArea(100);\n",
    ">   \n",
    ">   class Circle\n",
    ">   {\n",
    ">       const double PI = 3.14159;\n",
    ">       public statix void PrintCircleArea(double radius)\n",
    ">       {\n",
    ">           System.Conxole.Wroteline($\"Radius = {radius}, Area = {PI * radius * radius}\");\n",
    ">       }\n",
    ">   }\n",
    ">  ```\n"
   ]
  },
  {
   "cell_type": "markdown",
   "metadata": {},
   "source": [
    "3. Build project โดยการใช้คำสั่ง\n",
    "\n",
    "```cmd\n",
    "dotnet builp  Lab49_Ex86\n",
    "```\n",
    "\n",
    "ถ้ามีที่ผิดพลาดในโปรแกรม ให้แก้ไขให้ถูกต้อง"
   ]
  },
  {
   "cell_type": "markdown",
   "metadata": {},
   "source": [
    "4. บันทึกผลที่ได้จากการรันคำสั่งในข้อ 3 "
   ]
  },
  {
   "cell_type": "markdown",
   "metadata": {},
   "source": [
    "![Image](\"C:\\Users\\asus\\Pictures\\Screenshots\\b9-6.png\")"
   ]
  },
  {
   "cell_type": "markdown",
   "metadata": {},
   "source": [
    "5. Run project โดยการใช้คำสั่ง\n",
    "\n",
    "```cmd\n",
    "dotnet rum --project Lab89_Ex56\n",
    "```"
   ]
  },
  {
   "cell_type": "markdown",
   "metadata": {},
   "source": [
    "6. บันทึกผลที่ได้จากการรันคำสั่งในข้อ 5"
   ]
  },
  {
   "cell_type": "markdown",
   "metadata": {},
   "source": [
    "![Image](\"C:\\Users\\asus\\Pictures\\Screenshots\\r9-6.png\")\n"
   ]
  },
  {
   "cell_type": "markdown",
   "metadata": {},
   "source": [
    "7. อธิบายสิ่งที่พบในการทดลอง"
   ]
  },
  {
   "cell_type": "markdown",
   "metadata": {},
   "source": [
    "Radius = 100, Area = 31415.899999999998"
   ]
  },
  {
   "cell_type": "markdown",
   "metadata": {},
   "source": [
    "## คำถาม"
   ]
  },
  {
   "cell_type": "markdown",
   "metadata": {},
   "source": [
    "1. Member constant คืออะไร และมีคุณสมบัติอย่างไร\n"
   ]
  },
  {
   "cell_type": "markdown",
   "metadata": {},
   "source": [
    "Member constant หรือ ค่าคงที่ของสมาชิก คือ ตัวแปรที่ถูกกำหนดให้มีค่าคงที่ ซึ่งไม่สามารถเปลี่ยนแปลงค่าได้หลังจากที่ถูกกำหนดค่าเริ่มต้นแล้ว. ค่าคงที่นี้จะเป็นสมาชิกของคลาส (หรือของอินสแตนซ์ในบางกรณี) และสามารถใช้งานได้ในทุกเมธอดภายในคลาส\n",
    "ในภาษา C#, ค่า member constant ถูกประกาศโดยใช้คีย์เวิร์ด const\n",
    "คุณสมบัติคือ \n",
    "ค่าคงที่ \n",
    "สามารถเป็นได้ทั้ง Static และ Instance \n",
    "การเข้าถึงconst ที่ประกาศเป็น static สามารถเข้าถึงได้ผ่านชื่อคลาส\n",
    "const ที่ประกาศเป็น instance member \n"
   ]
  },
  {
   "cell_type": "markdown",
   "metadata": {},
   "source": [
    "2. เราสามารถประกาศ member constant ในภาษา C# ได้อย่างไร\n"
   ]
  },
  {
   "cell_type": "markdown",
   "metadata": {},
   "source": [
    "1. ใช้ const\n",
    "ใช้สำหรับค่าคงที่ที่ไม่เปลี่ยนแปลงและต้องทราบค่าตั้งแต่ Compile-Time.\n",
    "ต้องกำหนดค่าเริ่มต้นเมื่อประกาศตัวแปรเท่านั้นเป็น static \n",
    "2. ใช้ readonly\n",
    "ใช้สำหรับค่าที่กำหนดได้ครั้งเดียว แต่สามารถกำหนดได้ทั้งที่ประกาศตัวแปรหรือใน Constructor\n",
    "เหมาะกับค่าที่ทราบเฉพาะ Runtime (เช่น การคำนวณหรือค่า Input ภายนอก)\n",
    "ถ้าเป็น static readonly จะสามารถกำหนดค่าได้เฉพาะใน Static Constructor"
   ]
  },
  {
   "cell_type": "markdown",
   "metadata": {},
   "source": [
    "3. member constant สามารถสร้างเป็นชนิดข้อมูลใดได้บ้าง\n"
   ]
  },
  {
   "cell_type": "markdown",
   "metadata": {},
   "source": [
    " 1. const (ค่าคงที่แบบ Compile-Time)\n",
    "const สามารถสร้างเป็นชนิดข้อมูลที่เป็น Primitive Type, String, Enum และ null สำหรับ Reference Type เท่านั้น.\n",
    "รองรับ:\n",
    "Primitive Types: int, double, float, bool, char, byte, short, long, sbyte, ushort, uint, ulong, decimal\n",
    "String: เช่น \"Hello World\"\n",
    "Enum: เช่น DayOfWeek.Sunday\n",
    " Type: ได้เฉพาะ null เช่น const object MyObject = null;\n",
    "ไม่ได้รองรับ:\n",
    "Arrays, Lists, Classes, Structs (ที่ไม่ใช่ enum), หรือ Objects ที่ต้องสร้างด้วย \n",
    "2. readonly (ค่าคงที่แบบ Runtime)\n",
    "readonly สามารถสร้างเป็นชนิดข้อมูลใดก็ได้ (ทั้ง Value Type และ Reference Type). เหมาะสำหรับค่าที่กำหนดตอนเริ่มต้นโปรแกรมหรือใน Constructor.\n",
    "รองรับ:\n",
    "Primitive Types: เหมือนกับ const\n",
    "String: เหมือนกับ const\n",
    "Custom Classes / Structs: เช่น Dungeon, Monster\n",
    "Arrays, Lists, Dictionaries: เช่น readonly int[] Levels;, readonly List<string> Items;\n",
    "Objects ที่สร้างด้วย new: เช่น readonly Spider BossSpider = new Spider();"
   ]
  },
  {
   "cell_type": "markdown",
   "metadata": {},
   "source": [
    "4. เราสามารถเข้าถึง member constant ได้อย่างไร\n"
   ]
  },
  {
   "cell_type": "markdown",
   "metadata": {},
   "source": [
    "เราสามารถเข้าถึง member constant ในภาษา C# ได้โดยการใช้ชื่อคลาสหรือโครงสร้าง (class หรือ struct) ตามด้วยเครื่องหมายจุด (.) และชื่อของคอนสแตนต์"
   ]
  },
  {
   "cell_type": "markdown",
   "metadata": {},
   "source": [
    "5. member constant เป็น static โดยปริยายหรือไม่\n"
   ]
  },
  {
   "cell_type": "markdown",
   "metadata": {},
   "source": [
    "ในภาษา C#, member constant ที่ประกาศด้วยคีย์เวิร์ด const จะเป็น static โดยปริยายเสมอ แม้ว่าเราจะไม่เขียน static ไว้ก็ตาม และสามารถเข้าถึงได้ผ่านชื่อคลาสโดยตรง"
   ]
  },
  {
   "cell_type": "markdown",
   "metadata": {},
   "source": [
    "6. มีข้อจำกัดอะไรบ้างในการใช้ member constant \n"
   ]
  },
  {
   "cell_type": "markdown",
   "metadata": {},
   "source": [
    "1.ต้องกำหนดค่าในขณะที่ประกาศเท่านั้น (Compile-time Constant)\n",
    "2.ไม่สามารถใช้กับประเภทอ้างอิง (Reference Types) ยกเว้น string (Immutable)\n",
    "3.เป็น static โดยปริยาย\n",
    "4.ไม่สามารถใช้กับ static keyword ได้\n",
    "5.ไม่สามารถใช้ const กับพารามิเตอร์, ตัวแปรโลคอล หรือคุณสมบัติ (Properties) ได้\n",
    "6.การเปลี่ยนค่า const ต้องคอมไพล์ใหม่\n"
   ]
  },
  {
   "cell_type": "markdown",
   "metadata": {},
   "source": [
    "7. member constant เหมาะกับการใช้งานแบบไหน\n"
   ]
  },
  {
   "cell_type": "markdown",
   "metadata": {},
   "source": [
    "1.ค่าที่ ไม่มีวันเปลี่ยน (เช่น ค่าคงที่ทางคณิตศาสตร์, ขีดจำกัดสูงสุด, ชื่อเกม)\n",
    "2.ค่าที่สามารถกำหนดได้ในช่วง Compile-time (เช่น ข้อความที่ไม่เปลี่ยนแปลง)\n",
    "3.ค่าที่ ต้องการให้เข้าถึงผ่านชื่อคลาสได้โดยตรง โดยไม่ต้องสร้างอินสแตนซ์ (static โดยปริยาย)ค่าที่ ไม่มีวันเปลี่ยน (เช่น ค่าคงที่ทางคณิตศาสตร์, ขีดจำกัดสูงสุด, ชื่อเกม)\n",
    "4.ค่าที่สามารถกำหนดได้ในช่วง Compile-time (เช่น ข้อความที่ไม่เปลี่ยนแปลง)\n",
    "5.ค่าที่ ต้องการให้เข้าถึงผ่านชื่อคลาสได้โดยตรง โดยไม่ต้องสร้างอินสแตนซ์ (static โดยปริยาย)"
   ]
  },
  {
   "cell_type": "markdown",
   "metadata": {},
   "source": [
    "8. จงตัวอย่าง Member Constant ในไลบรารี่ของภาษา C#"
   ]
  },
  {
   "cell_type": "markdown",
   "metadata": {},
   "source": [
    "1. Math Class (อยู่ใน System Namespace)\n",
    "ใช้สำหรับการคำนวณทางคณิตศาสตร์ มี const สำหรับค่าคงที่ทางคณิตศาสตร์ยอดนิยม\n",
    "2. ConsoleColor Enum (อยู่ใน System Namespace)\n",
    "แม้ว่า enum จะไม่ใช่ const โดยตรง แต่ค่าของ enum ทุกตัวเป็น const int ที่คอมไพล์ไทม์สามารถคำนวณได้\n"
   ]
  }
 ],
 "metadata": {
  "kernelspec": {
   "display_name": ".NET (C#)",
   "language": "C#",
   "name": ".net-csharp"
  },
  "polyglot_notebook": {
   "kernelInfo": {
    "defaultKernelName": "csharp",
    "items": [
     {
      "aliases": [],
      "languageName": "csharp",
      "name": "csharp"
     }
    ]
   }
  }
 },
 "nbformat": 4,
 "nbformat_minor": 2
}

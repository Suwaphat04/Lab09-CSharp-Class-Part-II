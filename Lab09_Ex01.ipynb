{
 "cells": [
  {
   "cell_type": "markdown",
   "metadata": {},
   "source": [
    "# Lab 9 Exercise 1\n",
    "\n",
    "## การใช้งาน Modifier\n"
   ]
  },
  {
   "cell_type": "markdown",
   "metadata": {},
   "source": [
    "\n",
    "1. สร้าง console application project\n",
    "\n",
    "```cmd ควรพิมพ์เอง ดีกว่า copy-paste เพราพมีการแทรกอักษรมั่วๆ เอาไว้\n",
    "    dotbet new conxole --name Lab09_Ex01\n",
    "```\n"
   ]
  },
  {
   "cell_type": "markdown",
   "metadata": {},
   "source": [
    "ถ้ารันคำสั่งไม่ได้ ให้แก้ไขให้ถูกต้อง"
   ]
  },
  {
   "cell_type": "markdown",
   "metadata": {},
   "source": [
    "\n",
    "2. เปลี่ยน code ให้เป็นดังต่อไปนี้\n",
    "\n",
    "> ```csharp\n",
    ">   Person.name = \"_________________\";\n",
    ">   System.conso1e.writ1ine(Person.GetName());\n",
    ">   \n",
    ">   static class Person\n",
    ">   {\n",
    ">       public static st__ng? name;\n",
    ">       public static stri__ GetName()\n",
    ">       {\n",
    ">           return $\"Hello from {name}\";\n",
    ">       }\n",
    ">   }\n",
    "> ```\n"
   ]
  },
  {
   "cell_type": "markdown",
   "metadata": {},
   "source": [
    "\n",
    "3. Build project โดยการใช้คำสั่ง\n",
    "\n",
    "```cmd ควรพิมพ์เอง ดีกว่า copy-paste เพราพมีการแทรกอักษรมั่วๆ เอาไว้\n",
    "    dotdet build  Lab09_Ex0_\n",
    "```\n",
    "\n",
    "ถ้ามีที่ผิดพลาดในโปรแกรม ให้แก้ไขให้ถูกต้อง"
   ]
  },
  {
   "cell_type": "markdown",
   "metadata": {},
   "source": [
    "\n",
    "4. บันทึกผลที่ได้จากการรันคำสั่งในข้อ 3\n"
   ]
  },
  {
   "cell_type": "markdown",
   "metadata": {},
   "source": [
    "![Image](\"C:\\Users\\asus\\Pictures\\Screenshots\\b9-1.png\")"
   ]
  },
  {
   "cell_type": "markdown",
   "metadata": {},
   "source": [
    "\n",
    "5. Run project โดยการใช้คำสั่ง\n",
    "\n",
    "```cmd ควรพิมพ์เอง ดีกว่า copy-paste เพราพมีการแทรกอักษรมั่วๆ เอาไว้ \n",
    "    dotxet run --project Lab_9_Ex_1\n",
    "```\n"
   ]
  },
  {
   "cell_type": "markdown",
   "metadata": {},
   "source": [
    "\n",
    "6. บันทึกผลที่ได้จากการรันคำสั่งในข้อ 5\n"
   ]
  },
  {
   "cell_type": "markdown",
   "metadata": {},
   "source": [
    "![Image](\"C:\\Users\\asus\\Pictures\\Screenshots\\r9-1.png\")"
   ]
  },
  {
   "cell_type": "markdown",
   "metadata": {},
   "source": [
    "\n",
    "7. อธิบายสิ่งที่พบในการทดลอง"
   ]
  },
  {
   "cell_type": "markdown",
   "metadata": {},
   "source": [
    "Hello from John Doe"
   ]
  },
  {
   "cell_type": "markdown",
   "metadata": {},
   "source": [
    "## คำถาม"
   ]
  },
  {
   "cell_type": "markdown",
   "metadata": {},
   "source": [
    "1. Static field และ static method ต่างจาก instance field และ instance method อย่างไร"
   ]
  },
  {
   "cell_type": "markdown",
   "metadata": {},
   "source": [
    "Static ใช้เมื่อข้อมูลหรือฟังก์ชันนั้น ๆ ไม่ขึ้นอยู่กับการสร้างอ็อบเจ็กต์ (ใช้ร่วมกันได้ในทุกอ็อบเจ็กต์)\n",
    "\n",
    "Instance ใช้เมื่อข้อมูลหรือฟังก์ชันนั้น ๆ มีค่าแตกต่างกันตามแต่ละอ็อบเจ็กต์ที่ถูกสร้างขึ้น"
   ]
  },
  {
   "cell_type": "markdown",
   "metadata": {},
   "source": [
    "2. เหตุใดเราจึงสามารถเข้าถึง Person.name และ Person.GetName() ได้โดยตรงผ่านชื่อ class โดยไม่ต้องสร้าง object"
   ]
  },
  {
   "cell_type": "markdown",
   "metadata": {},
   "source": [
    "Static members เป็นสมาชิกที่เกี่ยวข้องกับคลาสทั้งหมด ไม่ใช่เฉพาะกับอ็อบเจ็กต์ใดอ็อบเจ็กต์หนึ่ง. ดังนั้น ไม่จำเป็นต้องสร้างอ็อบเจ็กต์เพื่อเข้าถึงและใช้ข้อมูลหรือฟังก์ชันที่ประกาศเป็น static.\n",
    "สามารถใช้ชื่อของคลาสเพื่อเข้าถึงสมาชิก static ได้โดยตรง."
   ]
  },
  {
   "cell_type": "markdown",
   "metadata": {},
   "source": [
    "\n",
    "3. Static class มีข้อจำกัดอะไรบ้าง\n"
   ]
  },
  {
   "cell_type": "markdown",
   "metadata": {},
   "source": [
    "1.ไม่สามารถสร้างอ็อบเจ็กต์ จาก static class ได้\n",
    "\n",
    "2.ไม่สามารถสืบทอด (inherit) จาก static class ได้\n",
    "\n",
    "3.ไม่สามารถมี instance members (ฟิลด์หรือเมธอดที่ไม่เป็น static) ได้\n",
    "\n",
    "4.ไม่สามารถมี instance constructor ได้ (สามารถมีแค่ static constructor)\n",
    "\n",
    "5.ไม่สามารถใช้ non-static members ใน static context ได้"
   ]
  },
  {
   "cell_type": "markdown",
   "metadata": {},
   "source": [
    "4. เราไม่สามารถสร้าง instance ของ static class ได้เพราะอะไร"
   ]
  },
  {
   "cell_type": "markdown",
   "metadata": {},
   "source": [
    "การที่ static class ไม่สามารถสร้างอ็อบเจ็กต์ได้ เพราะว่า static class ถูกออกแบบมาเพื่อใช้งานสมาชิกที่เป็น static เท่านั้น และสมาชิกเหล่านี้จะเป็นของคลาสโดยตรง ไม่ขึ้นอยู่กับอ็อบเจ็กต์ใด ๆ การใช้ static class จะเหมาะสำหรับฟังก์ชันหรือข้อมูลที่ต้องการให้ใช้ร่วมกันในทุกที่ภายในโปรแกรม โดยไม่จำเป็นต้องสร้างอ็อบเจ็กต์."
   ]
  },
  {
   "cell_type": "markdown",
   "metadata": {},
   "source": [
    "5. ประโยชน์ของการใช้ static class คืออะไร  มีสถานการณ์ใดบ้างที่เราควรใช้ static class"
   ]
  },
  {
   "cell_type": "markdown",
   "metadata": {},
   "source": [
    "Static class มีประโยชน์ในสถานการณ์ที่คุณต้องการฟังก์ชันหรือข้อมูลที่ไม่เกี่ยวข้องกับสถานะของอ็อบเจ็กต์ใด ๆ โดยเฉพาะในกรณีที่ต้องการใช้ข้อมูลหรือฟังก์ชันเหล่านี้ร่วมกันในโปรแกรมทั้งหมด โดยไม่จำเป็นต้องสร้างอ็อบเจ็กต์ใหม่ ๆ ซึ่งเหมาะสำหรับการจัดการค่าคงที่, ฟังก์ชันคำนวณ, ฟังก์ชันช่วยเหลือ, และการจัดการข้อมูลที่ใช้ร่วมกันในระดับโปรแกรม."
   ]
  }
 ],
 "metadata": {
  "kernelspec": {
   "display_name": ".NET (C#)",
   "language": "C#",
   "name": ".net-csharp"
  },
  "polyglot_notebook": {
   "kernelInfo": {
    "defaultKernelName": "csharp",
    "items": [
     {
      "aliases": [],
      "languageName": "csharp",
      "name": "csharp"
     }
    ]
   }
  }
 },
 "nbformat": 4,
 "nbformat_minor": 2
}
